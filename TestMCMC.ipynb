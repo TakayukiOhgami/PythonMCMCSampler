{
 "cells": [
  {
   "cell_type": "code",
   "execution_count": null,
   "id": "a978c372",
   "metadata": {},
   "outputs": [],
   "source": [
    "from mkTestData import mkdata\n",
    "\n",
    "testdata = mkdata('q', [1.5, 0, 2], [-15, 15], 15, 0, 10, 'return', 'random')\n",
    "testdata.xsort()"
   ]
  },
  {
   "cell_type": "code",
   "execution_count": null,
   "id": "bd2f9966",
   "metadata": {},
   "outputs": [],
   "source": [
    "%matplotlib inline\n",
    "import matplotlib.pyplot as plt\n",
    "\n",
    "plt.errorbar(testdata.data['test'].x, testdata.data['test'].y,\n",
    "             xerr=testdata.data['test'].xerr, yerr=testdata.data['test'].yerr,\n",
    "             capsize=4, fmt='o', markersize=7, ecolor='black', markeredgecolor = \"black\", color='w')"
   ]
  },
  {
   "cell_type": "code",
   "execution_count": null,
   "id": "471c1c5b",
   "metadata": {},
   "outputs": [],
   "source": [
    "from fittingclass import PriorClass, MetropolisAlgorithm\n",
    "\n",
    "prior = PriorClass([1, 0, 1], std=[0.1, 0.1, 0.1], cov=None)\n",
    "mcmc = MetropolisAlgorithm(testdata, function='q', prior=prior)"
   ]
  },
  {
   "cell_type": "code",
   "execution_count": null,
   "id": "79ba8a5c",
   "metadata": {},
   "outputs": [],
   "source": [
    "mcmc.setChain(1000, nchain=2, stepsize=0.3, betastep=[1., 0., 1.])"
   ]
  },
  {
   "cell_type": "code",
   "execution_count": null,
   "id": "c28a79c5",
   "metadata": {},
   "outputs": [],
   "source": [
    "mcmc.run(prior=False, outdir='output', multi=True)"
   ]
  },
  {
   "cell_type": "code",
   "execution_count": null,
   "id": "e35a31dd",
   "metadata": {},
   "outputs": [],
   "source": [
    "output = mcmc.make_output(burnin=100, thinning=10)\n",
    "\n",
    "print(output.coef)\n",
    "print(output.coef_std)\n",
    "print(output.coef_cov)"
   ]
  },
  {
   "cell_type": "code",
   "execution_count": null,
   "id": "2c18be9c",
   "metadata": {},
   "outputs": [],
   "source": [
    "import numpy as np\n",
    "from fittingclass import chi2\n",
    "\n",
    "'reduced chi squared: {:.1E}'.format(chi2(testdata, mcmc.function(output.coef, testdata.data['test'].x))/mcmc.DoF)\n",
    "\n",
    "plt.errorbar(testdata.data['test'].x, testdata.data['test'].y,\n",
    "             xerr=testdata.data['test'].xerr, yerr=testdata.data['test'].yerr,\n",
    "             capsize=4, fmt='o', markersize=7, ecolor='black', markeredgecolor = \"black\", color='w')\n",
    "\n",
    "x, ymax, ymin = mcmc.calc_range([testdata.data['test'].x.min(), testdata.data['test'].x.max()], nxdata=1000, nsample=1000)\n",
    "y = mcmc.function(output.coef, x)\n",
    "\n",
    "plt.plot(x, y, color='red')\n",
    "plt.fill_between(x, ymax, ymin, color='pink', alpha=0.7)"
   ]
  },
  {
   "cell_type": "code",
   "execution_count": null,
   "id": "bd65fb70",
   "metadata": {},
   "outputs": [],
   "source": [
    "from IPython.display import clear_output\n",
    "clear_output()"
   ]
  },
  {
   "cell_type": "code",
   "execution_count": null,
   "id": "33026c54",
   "metadata": {},
   "outputs": [],
   "source": []
  }
 ],
 "metadata": {
  "kernelspec": {
   "display_name": "Python 3",
   "language": "python",
   "name": "python3"
  },
  "language_info": {
   "codemirror_mode": {
    "name": "ipython",
    "version": 3
   },
   "file_extension": ".py",
   "mimetype": "text/x-python",
   "name": "python",
   "nbconvert_exporter": "python",
   "pygments_lexer": "ipython3",
   "version": "3.8.5"
  }
 },
 "nbformat": 4,
 "nbformat_minor": 5
}
